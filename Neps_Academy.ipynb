{
 "cells": [
  {
   "cell_type": "markdown",
   "metadata": {},
   "source": [
    "### Gangorra neps academy"
   ]
  },
  {
   "cell_type": "code",
   "execution_count": null,
   "metadata": {},
   "outputs": [],
   "source": [
    "p1, c1, p2, c2 = input().split(\" \")\n",
    "\n",
    "p1 = int(p1)\n",
    "c1 = int(c1)\n",
    "p2 = int(p2)\n",
    "c2 = int(c2) \n",
    "\n",
    "if p1 and c1 >= 10 and p1 and c1 <= 100:\n",
    "    if p2 and c2 >= 10 and p2 and c2 <= 100:\n",
    "        if p1 * c1 == p2 * c2:\n",
    "            print(0)\n",
    "        elif p1 * c1 > p2 * c2:\n",
    "            print(-1)\n",
    "        else:\n",
    "            print(1)    "
   ]
  },
  {
   "cell_type": "markdown",
   "metadata": {},
   "source": [
    "### Garson neps academy"
   ]
  },
  {
   "cell_type": "code",
   "execution_count": null,
   "metadata": {},
   "outputs": [],
   "source": [
    "n = int(input('N: '))\n",
    "if n >= 1 and n <= 100:\n",
    "    lista = []\n",
    "    conte = 0\n",
    "    while conte < n:\n",
    "        conte+=1\n",
    "        l, c = input().split(' ')\n",
    "        l = int(l)\n",
    "        c = int(c)\n",
    "        if l >= 0 and l <= 100:\n",
    "            if c >= 0 and c <= 100:\n",
    "                if l > c:\n",
    "                    lista.append(c) \n",
    "else:\n",
    "    exit()\n",
    "\n",
    "print(sum(lista))"
   ]
  },
  {
   "cell_type": "markdown",
   "metadata": {},
   "source": [
    "### Lampadas neps academy"
   ]
  },
  {
   "cell_type": "code",
   "execution_count": null,
   "metadata": {},
   "outputs": [],
   "source": [
    "n = int(input('Numero de interações: '))\n",
    "a = -1\n",
    "b = -1\n",
    "if n >= 2 and n <= 10**5:\n",
    "    lst_v = []\n",
    "    while len(lst_v) < n:\n",
    "        valor = int(input('v: '))\n",
    "        if valor < 0 or valor > 2:\n",
    "            pass\n",
    "        else:\n",
    "            lst_v.append(valor)\n",
    "\n",
    "for std in lst_v:\n",
    "    if std==1:\n",
    "        a*=-1\n",
    "    else:\n",
    "        a*=-1\n",
    "        b*=-1\n",
    "\n",
    "if a==-1:\n",
    "    a = 0\n",
    "elif b==-1:\n",
    "    b = 0\n",
    "        \n",
    "print(a)\n",
    "print(b)"
   ]
  },
  {
   "cell_type": "markdown",
   "metadata": {},
   "source": [
    "### Potência simples neps:"
   ]
  },
  {
   "cell_type": "code",
   "execution_count": null,
   "metadata": {},
   "outputs": [],
   "source": [
    "x, y = input().split(\" \")\n",
    "\n",
    "x = float(x)\n",
    "y = float(y)\n",
    "\n",
    "if x>= 0 and x<=10000:\n",
    "\tif y>= 1 <=10:\n",
    "\t\tif x**y <= 10**9:\n",
    "\t\t\tprint(f'{x**y:.4f}')"
   ]
  },
  {
   "cell_type": "markdown",
   "metadata": {},
   "source": [
    "#### Huaauhahhuahau"
   ]
  },
  {
   "cell_type": "code",
   "execution_count": null,
   "metadata": {},
   "outputs": [],
   "source": [
    "\n",
    "from unicodedata import normalize\n",
    "\n",
    "entrada = input()\n",
    "entrada = normalize('NFKD', entrada).encode('ASCII','ignore').decode('ASCII')\n",
    "print(entrada)\n",
    "\n",
    "if len(entrada) <= 50:\n",
    "\t\n",
    "\tvogais = [\"a\",\"e\",\"i\",\"o\",\"u\"]\n",
    "\tconte_vogais = 0\n",
    "\tconte_consoantes = 0\n",
    "\n",
    "\tfor letra in entrada:\n",
    "\t\tif letra in vogais:\n",
    "\t\t\tconte_vogais+=1\n",
    "\t\telse:\n",
    "\t\t\tconte_consoantes+=1\n",
    "\n",
    "if conte_vogais >= conte_consoantes:\n",
    "    print('S')\n",
    "else:\n",
    "    print('N')   "
   ]
  },
  {
   "cell_type": "markdown",
   "metadata": {},
   "source": [
    "# Sequência de Fibonacci\n",
    "\n"
   ]
  },
  {
   "cell_type": "code",
   "execution_count": null,
   "metadata": {},
   "outputs": [],
   "source": [
    "\n",
    "def fibo(an):\n",
    "\n",
    "    if an >= 0 and an <= 30:\n",
    "\n",
    "        anterior = 0\n",
    "        proximo = 1\n",
    "        caunt_i = 0\n",
    "\n",
    "        while True:\n",
    "            \n",
    "            caunt_i +=1\n",
    "\n",
    "            termo = proximo + anterior\n",
    "            anterior = proximo\n",
    "            proximo = termo\n",
    "\n",
    "            if caunt_i == an:\n",
    "                return termo\n",
    "\n",
    "    return None\n",
    "\n",
    "print(fibo(10))    \n"
   ]
  },
  {
   "cell_type": "markdown",
   "metadata": {},
   "source": [
    "# Jogo de par ou ímpar"
   ]
  },
  {
   "cell_type": "code",
   "execution_count": null,
   "metadata": {},
   "outputs": [],
   "source": [
    "p = int(input('p'))\n",
    "\n",
    "if p >= 0 and p <= 1:\n",
    "    if p==0:\n",
    "        alice = 0 # par\n",
    "        bob = 1\n",
    "    else:\n",
    "        bob = 0\n",
    "        alice = 1    \n",
    "\n",
    "da = int(input('d1'))\n",
    "if da >= 0 and da <= 5:\n",
    "    db = int(input('d2'))\n",
    "    if db >= 0 and db <= 5:\n",
    "        r = da + db\n",
    "        if r % 2 != 0:\n",
    "            print(bob)\n",
    "        else:\n",
    "            print(alice)    "
   ]
  },
  {
   "cell_type": "markdown",
   "metadata": {},
   "source": [
    "# Piso da escola"
   ]
  },
  {
   "cell_type": "code",
   "execution_count": null,
   "metadata": {},
   "outputs": [],
   "source": [
    "\n",
    "\n",
    "l = int(input()) # Largura;\n",
    "c = int(input()) # Comprimento;\n",
    "\n",
    "meia_laj = (2*(l -1) + 2*(c - 1)) # Somatório de meia lajotas;\n",
    "\n",
    "total_int = ((l*(c)) + ((l -1)*(c - 1))) # Somatŕio das lajotas inteiras;\n",
    "\n",
    "print(total_int)\n",
    "print(meia_laj)"
   ]
  },
  {
   "cell_type": "markdown",
   "metadata": {},
   "source": [
    "# Valores entre dois números\n",
    "\n"
   ]
  },
  {
   "cell_type": "code",
   "execution_count": null,
   "metadata": {},
   "outputs": [],
   "source": [
    "\n",
    "na = int(input())\n",
    "if na >= -100 and na <= 100:\n",
    "    nb = int(input())\n",
    "    if nb >= -100 and nb <= 100:\n",
    "\n",
    "        # Para refatorar!\n",
    "        menor = 0\n",
    "        if na < menor:\n",
    "            menor = na\n",
    "        else:\n",
    "            maior = nb\n",
    "        # Para Refatorar!\n",
    "        \n",
    "        menor = menor -1\n",
    "        while True:\n",
    "            menor+=1\n",
    "            print(menor)"
   ]
  },
  {
   "cell_type": "markdown",
   "metadata": {},
   "source": [
    "# Toca do Saci\n"
   ]
  },
  {
   "cell_type": "code",
   "execution_count": null,
   "metadata": {},
   "outputs": [],
   "source": [
    "\n",
    "\n",
    "def gen():\n",
    "\n",
    "    \"\"\"Gera valores aleatórios entre [0, 3]\"\"\"\n",
    "\n",
    "    from random import choice\n",
    "\n",
    "    inter = [i for i in range(0, 4)]\n",
    "    return choice(inter)\n",
    "\n",
    "\n",
    "\n",
    "def dim_array(n_row, n_col):\n",
    "\n",
    "    from numpy import array\n",
    "\n",
    "    \"\"\"Gera uma matriz MxN\"\"\"\n",
    "\n",
    "    row = []\n",
    "    finish_array = []\n",
    "    full_elements = []\n",
    "\n",
    "    while len(finish_array) < n_row:\n",
    "\n",
    "        valor = gen()\n",
    "        full_elements.append(valor)\n",
    "\n",
    "        if 3 in full_elements:\n",
    "            pass\n",
    "        elif 2 in full_elements:\n",
    "            pass\n",
    "        else:\n",
    "            row.append(valor)\n",
    "            if len(row)==n_col:\n",
    "                finish_array.append(row.copy())\n",
    "                row.clear()\n",
    "            else:\n",
    "                pass\n",
    "    return array(finish_array)\n",
    "    \n",
    "print(dim_array(3, 3))        \n"
   ]
  },
  {
   "cell_type": "markdown",
   "metadata": {},
   "source": [
    "# Código obi"
   ]
  },
  {
   "cell_type": "code",
   "execution_count": null,
   "metadata": {},
   "outputs": [],
   "source": [
    "n = int(input()) # Quantidade de zeros e uns;\n",
    "if n >= 1 and n <= 10**4:\n",
    "    numero = [input() for i in range(0, n)]\n",
    "    busca = ''\n",
    "    conte = 0\n",
    "    for i in numero:\n",
    "        busca+=i\n",
    "        if len(busca)==3:\n",
    "            print(busca)\n",
    "            if busca == '100':\n",
    "                conte+=1\n",
    "                busca = ''\n",
    "            else:\n",
    "                busca=''\n",
    "        else:\n",
    "            pass\n",
    "else:\n",
    "    pass       \n",
    "\n",
    "print(conte)                "
   ]
  },
  {
   "cell_type": "markdown",
   "metadata": {},
   "source": [
    "# Potências simples"
   ]
  },
  {
   "cell_type": "code",
   "execution_count": null,
   "metadata": {},
   "outputs": [],
   "source": [
    "\n",
    "x = int(input())\n",
    "if x >= 0 and x <= 10000:\n",
    "    y = int(input())\n",
    "    if y >= 1 and y <= 10:\n",
    "        resultado = x**y\n",
    "        if resultado <= 10**9:\n",
    "            print(f'{resultado:.4f}')\n",
    "        else:\n",
    "            pass       \n",
    "    else:\n",
    "        pass        \n",
    "else:\n",
    "    pass   \n",
    "         "
   ]
  },
  {
   "cell_type": "markdown",
   "metadata": {},
   "source": [
    "# Quadrante "
   ]
  },
  {
   "cell_type": "code",
   "execution_count": null,
   "metadata": {},
   "outputs": [],
   "source": [
    "x = int(input())\n",
    "y = int(input())\n",
    "\n",
    "if x > 0 and y > 0:\n",
    "    print('Q1')\n",
    "elif x < 0 and y > 0:\n",
    "    print('Q2')\n",
    "elif x < 0 and y < 0:\n",
    "    print('Q3')\n",
    "elif x > 0 and y < 0:\n",
    "    print('Q4')\n",
    "elif x==0 and y != 0:\n",
    "    print('eixos')\n",
    "else:\n",
    "    print('eixos')            "
   ]
  },
  {
   "cell_type": "markdown",
   "metadata": {},
   "source": [
    "# Campo minado"
   ]
  },
  {
   "cell_type": "code",
   "execution_count": null,
   "metadata": {},
   "outputs": [],
   "source": [
    "n = int(input())\n",
    "tab=[]\n",
    "if n >= 1 and n <= 50:\n",
    "    while len(tab) < n:\n",
    "        value = int(input())\n",
    "        tab.append(value)\n",
    "print(tab)\n",
    "for i, v in enumerate(tab):\n",
    "    if i==0:\n",
    "        print(tab[0] + tab[1])\n",
    "    elif i > 0 and i < n-1:\n",
    "        print(tab[i-1] + tab[i] + tab[i+1])\n",
    "    else:\n",
    "        print(tab[i-1] + tab[i])        "
   ]
  },
  {
   "cell_type": "markdown",
   "metadata": {},
   "source": [
    "# Média Inteira Ponderada"
   ]
  },
  {
   "cell_type": "code",
   "execution_count": null,
   "metadata": {},
   "outputs": [],
   "source": [
    "from math import floor\n",
    "\n",
    "a = int(input())\n",
    "pa = 4\n",
    "pb = 6\n",
    "if a >= 0 and a <= 1000:\n",
    "    b = int(input())\n",
    "    if b >= 0 and b <=1000:\n",
    "        media_p = ((pa*a) + (pb*b)) / (pa + pb)\n",
    "        print(floor(media_p))"
   ]
  },
  {
   "cell_type": "markdown",
   "metadata": {},
   "source": [
    "# Fita colorida"
   ]
  },
  {
   "cell_type": "code",
   "execution_count": null,
   "metadata": {},
   "outputs": [],
   "source": [
    "\n",
    "class FitaColorida:\n",
    "\n",
    "    \"\"\"\n",
    "\n",
    "        Paintings tags\n",
    "\n",
    "    \"\"\"\n",
    "\n",
    "\n",
    "    def __init__(self) -> None:\n",
    "        pass\n",
    "\n",
    "         \n",
    "    def values(self):\n",
    "\n",
    "        \"\"\"\n",
    "\n",
    "            Input data user\n",
    "\n",
    "                - Number inputs\n",
    "\n",
    "                    - Colections inputs\n",
    "\n",
    "        \n",
    "        \"\"\"\n",
    "\n",
    "        self.number_input = int(input('Number inputs:: '))\n",
    "        self.user_list_input = []\n",
    "\n",
    "        while len(self.user_list_input) < self.number_input:\n",
    "            self.user_input = int(input('Term:: '))\n",
    "            self.user_list_input.append(self.user_input)\n",
    "        \n",
    "        return self.user_list_input\n",
    "\n",
    "\n",
    "\n",
    "    def color(self) -> list:\n",
    "\n",
    "        from math import fabs\n",
    "\n",
    "        \"\"\"\n",
    "            */// Painting the ribbons ///*\n",
    "        \"\"\"\n",
    "\n",
    "        self.distancias_real = [] # A menor distância de todas as distâncias;\n",
    "        self.full_distancias = [] # Todas as distâncias;\n",
    "\n",
    "        for self.index, self.valor in enumerate(self.user_list_input):\n",
    "            for self.i, self.v in enumerate(self.user_list_input):\n",
    "                \n",
    "                if self.v==0:\n",
    "                    self.d = fabs(self.index - self.i)\n",
    "                    self.full_distancias.append(self.d)\n",
    "                    \n",
    "                    if len(self.full_distancias)==self.user_list_input.count(0):\n",
    "                        self.distancias_real.append(min(self.full_distancias.copy()))\n",
    "                        self.full_distancias.clear()         \n",
    "                    \n",
    "                    else:\n",
    "                        pass \n",
    "                else:\n",
    "                    pass\n",
    "        \n",
    "        return self.distancias_real   "
   ]
  },
  {
   "cell_type": "code",
   "execution_count": null,
   "metadata": {},
   "outputs": [],
   "source": [
    "# Testando a classe:\n",
    "\n",
    "# Teste 01\n",
    " \n",
    "    # Lista teste: [-1, -1, 0, -1, -1, -1,  0, -1]\n",
    "    # Saída esperada: [2, 1, 0, 1, 2, 1, 0, 1] \n",
    "\n",
    "fita = FitaColorida()\n",
    "fita.values()\n",
    "print(fita.color())"
   ]
  },
  {
   "cell_type": "markdown",
   "metadata": {},
   "source": [
    "# Zerinho ou um"
   ]
  },
  {
   "cell_type": "code",
   "execution_count": null,
   "metadata": {},
   "outputs": [],
   "source": [
    "class Zerinho():\n",
    "\n",
    "    \"\"\"\n",
    "        Calcula quem é o vencedor do \"zerinho ou um\".\n",
    "    \"\"\"\n",
    "\n",
    "    def __init__(self) -> None:\n",
    "        pass\n",
    "\n",
    "           \n",
    "    def se_vencedor(self):\n",
    "\n",
    "        \"\"\"\n",
    "            Mostra o nome do vencedor!\n",
    "        \"\"\"\n",
    "\n",
    "        self.jogada = input()\n",
    "        self.zero = 0\n",
    "        self.um = 0\n",
    "\n",
    "        for self.j in self.jogada:\n",
    "            if self.j=='1':\n",
    "                self.um+=1\n",
    "            else:\n",
    "                self.zero+=1\n",
    "\n",
    "        self.nome_vencedor = ['A','B', 'C']\n",
    "\n",
    "        if self.zero==1:\n",
    "            return(self.nome_vencedor[self.jogada.index('0')])\n",
    "        elif self.um==1:\n",
    "            return(self.nome_vencedor[self.jogada.index('1')])    \n",
    "        else:\n",
    "            return('Não temos vencedores!')"
   ]
  },
  {
   "cell_type": "code",
   "execution_count": null,
   "metadata": {},
   "outputs": [],
   "source": [
    "# Testando a classe:\n",
    "\n",
    "teste = Zerinho()\n",
    "teste.se_vencedor()"
   ]
  },
  {
   "cell_type": "markdown",
   "metadata": {},
   "source": [
    "# Lâmpadas"
   ]
  },
  {
   "cell_type": "code",
   "execution_count": null,
   "metadata": {},
   "outputs": [],
   "source": [
    "# Estados:\n",
    "\n",
    "a = -1 # Zero\n",
    "b = -1 # Zero\n",
    "\n",
    "# Push:\n",
    "\n",
    "n_vezes = 4\n",
    "estados = [2, 1, 2, 2]\n",
    "\n",
    "# O interrupitor 1 muda somente o estado da primeira lampada;\n",
    "# O Interrupitor 2 muda o estado de ambas;\n",
    "\n",
    "for i in estados:\n",
    "    if i==2:\n",
    "        b*=-1\n",
    "        a*=-1 \n",
    "    else:\n",
    "        a*=-1\n",
    "if a < 0:\n",
    "    a = 0\n",
    "elif b < 0:\n",
    "    b = 0            \n",
    "\n",
    "\n",
    "# Saída:\n",
    "\n",
    "print(a)\n",
    "print(b)"
   ]
  },
  {
   "cell_type": "markdown",
   "metadata": {},
   "source": [
    "# Aprovado ou Reprovado"
   ]
  },
  {
   "cell_type": "code",
   "execution_count": null,
   "metadata": {},
   "outputs": [],
   "source": [
    "a, b = input().split(\" \")\n",
    "\n",
    "a = int(a)\n",
    "b = int(b)\n",
    "\n",
    "if a >= 0 and a <= 10:\n",
    "    if b >= 0 and b <= 10:\n",
    "        media = (a + b) / 2\n",
    "        if media >= 7:\n",
    "            print(\"Aprovado\")\n",
    "        elif media < 7 and media >= 4:\n",
    "            print(\"Recuperação\")\n",
    "        else:\n",
    "            print(\"Reprovado\")"
   ]
  }
 ],
 "metadata": {
  "kernelspec": {
   "display_name": "Python 3.10.7 64-bit",
   "language": "python",
   "name": "python3"
  },
  "language_info": {
   "codemirror_mode": {
    "name": "ipython",
    "version": 3
   },
   "file_extension": ".py",
   "mimetype": "text/x-python",
   "name": "python",
   "nbconvert_exporter": "python",
   "pygments_lexer": "ipython3",
   "version": "3.10.7"
  },
  "orig_nbformat": 4,
  "vscode": {
   "interpreter": {
    "hash": "916dbcbb3f70747c44a77c7bcd40155683ae19c65e1c03b4aa3499c5328201f1"
   }
  }
 },
 "nbformat": 4,
 "nbformat_minor": 2
}
