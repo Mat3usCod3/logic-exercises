{
 "cells": [
  {
   "cell_type": "markdown",
   "metadata": {},
   "source": [
    "# Juros simples. \n",
    "\n",
    "Quando um capital *C* é aplicado durante *t* unidades de tempo, e a taxa i de juro, por unidade de tempo,  inicide apenas sobre o capital inicial, o juro *J* é chamado de juro simples. Esse juro ao final da aplicação é calculado por:\n",
    "$$J= C \\cdot i \\cdot t$$"
   ]
  },
  {
   "cell_type": "markdown",
   "metadata": {},
   "source": [
    "#### Exercícios\n",
    "\n",
    "Capital inicial 5.000,00, taxa de 2%, durante 3 meses.\n",
    "\n",
    "*Rendimento mensal de R$ 100,00. No primeiro trimestre teremos R$ 300,00 de produzidos acumulados*. "
   ]
  },
  {
   "cell_type": "code",
   "execution_count": 36,
   "metadata": {},
   "outputs": [
    {
     "name": "stdout",
     "output_type": "stream",
     "text": [
      "Juros produzidos durante 3 meses: R$ 300.0\n"
     ]
    }
   ],
   "source": [
    "def js(c, i, t):\n",
    "    \"\"\"Juros durante t meses, a uma taxa i, sob um capital inicial c \"\"\"\n",
    "    return f'Juros produzidos durante {t} meses: R$ {c * i * t}'\n",
    "\n",
    "print(js(5000, 0.02, 3))"
   ]
  },
  {
   "cell_type": "code",
   "execution_count": 52,
   "metadata": {},
   "outputs": [],
   "source": [
    "\n",
    "# Vamos definir uma nova função a partir da primeira, no sistema de juros compostos.\n",
    "\n",
    "def jc(c, i, t):\n",
    "\n",
    "    conte_t = 0\n",
    "    jf = 0\n",
    "    juros_meses=[]\n",
    "    while conte_t < t:\n",
    "        conte_t +=1\n",
    "        j = c * i\n",
    "        juros_meses.append(round(j, 4))       # Juros mensais;\n",
    "        jf+=j           # Somatório dos juros de cada mês;\n",
    "        c = c + j       # Novo capital/Montante (capital inicial + juros)\n",
    "        \n",
    "    return f'Motante: {c} Somatório juros/meses: R$ {round(jf, 4)} interv: {juros_meses}'\n"
   ]
  },
  {
   "cell_type": "code",
   "execution_count": 24,
   "metadata": {},
   "outputs": [
    {
     "name": "stdout",
     "output_type": "stream",
     "text": [
      "Motante: 5306.04 Somatório juros/meses: R$ 306.04 interv: [100.0, 102.0, 104.04]\n"
     ]
    }
   ],
   "source": [
    "print(jc(5000, 0.02, 3))"
   ]
  },
  {
   "cell_type": "markdown",
   "metadata": {},
   "source": [
    "#### Exercício 02\n",
    "Um capital de R$ 340,00 foi aplicado a juros simples, a taxa de 3% ao mês, por um período de 20 meses."
   ]
  },
  {
   "cell_type": "code",
   "execution_count": 38,
   "metadata": {},
   "outputs": [
    {
     "name": "stdout",
     "output_type": "stream",
     "text": [
      "Juros produzidos durante 20 meses: R$ 204.0\n"
     ]
    }
   ],
   "source": [
    "# Juros acumulados durante t:\n",
    "print(js(340, 0.03, 20))"
   ]
  },
  {
   "cell_type": "code",
   "execution_count": 34,
   "metadata": {},
   "outputs": [
    {
     "data": {
      "text/plain": [
       "544.0"
      ]
     },
     "execution_count": 34,
     "metadata": {},
     "output_type": "execute_result"
    }
   ],
   "source": [
    "# Montante (m)\n",
    "m = 340 + 204.0\n",
    "m "
   ]
  },
  {
   "cell_type": "markdown",
   "metadata": {},
   "source": [
    "#### Exercício 3\n",
    "\n",
    "Juros simples produzido por um capital de R$ 1200,00 aplicado durante um ano e meio a taxa de 4% ao mês."
   ]
  },
  {
   "cell_type": "code",
   "execution_count": 37,
   "metadata": {},
   "outputs": [
    {
     "name": "stdout",
     "output_type": "stream",
     "text": [
      "Juros produzidos durante 18 meses: R$ 864.0\n"
     ]
    }
   ],
   "source": [
    "print(js(1200, 0.04, 18))"
   ]
  },
  {
   "cell_type": "markdown",
   "metadata": {},
   "source": [
    "#### Exercício 04\n",
    "\n",
    "Um capital de R$ 1260,00 aplicado a taxa de 2,5% ao mês, produziu juro simples de R$ 378,00. Calcule quanto quanto tempo o capital esteve aplicado."
   ]
  },
  {
   "cell_type": "code",
   "execution_count": 43,
   "metadata": {},
   "outputs": [
    {
     "data": {
      "text/plain": [
       "12.0"
      ]
     },
     "execution_count": 43,
     "metadata": {},
     "output_type": "execute_result"
    }
   ],
   "source": [
    "# Taxa i em decimal:\n",
    "i = 2.5/100\n",
    "# Juros produzidos durante t:\n",
    "j = 378.0\n",
    "# Capital inicial:\n",
    "c = 1260.0\n",
    "\n",
    "tempo = j / (c * i)\n",
    "tempo"
   ]
  },
  {
   "cell_type": "markdown",
   "metadata": {},
   "source": [
    "#### Exercício 05\n",
    "\n",
    "Iptu com vencimento previsto para o dia 10/12. Se atraso, taxa de 0,22% por dia de atraso. Se o documento foi devidamente pago no dia 18/12 desse mesmo mês, calcule o valor pago pelo cliente.\n"
   ]
  },
  {
   "cell_type": "code",
   "execution_count": 53,
   "metadata": {},
   "outputs": [
    {
     "name": "stdout",
     "output_type": "stream",
     "text": [
      "Motante: 50.886805896534064 Somatório juros/meses: R$ 0.8868 interv: [0.11, 0.1102, 0.1105, 0.1107, 0.111, 0.1112, 0.1115, 0.1117]\n"
     ]
    }
   ],
   "source": [
    "print(jc(50, 0.22/100, 8))"
   ]
  },
  {
   "cell_type": "markdown",
   "metadata": {},
   "source": [
    "O cliente deverá pagar aproximadamete R$ 50,88 após a data de vencimento do documento."
   ]
  }
 ],
 "metadata": {
  "kernelspec": {
   "display_name": "Python 3.10.4 64-bit",
   "language": "python",
   "name": "python3"
  },
  "language_info": {
   "codemirror_mode": {
    "name": "ipython",
    "version": 3
   },
   "file_extension": ".py",
   "mimetype": "text/x-python",
   "name": "python",
   "nbconvert_exporter": "python",
   "pygments_lexer": "ipython3",
   "version": "3.10.7"
  },
  "orig_nbformat": 4,
  "vscode": {
   "interpreter": {
    "hash": "916dbcbb3f70747c44a77c7bcd40155683ae19c65e1c03b4aa3499c5328201f1"
   }
  }
 },
 "nbformat": 4,
 "nbformat_minor": 2
}
