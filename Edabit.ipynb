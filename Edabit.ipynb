{
 "cells": [
  {
   "cell_type": "markdown",
   "metadata": {},
   "source": [
    "#### Create methods for the `Calculator` class that can do the following:\n",
    "\n",
    "+ Add two numbers.\n",
    "+ Subtract two numbers.\n",
    "+ Multiply two numbers.\n",
    "+ Divide two numbers. "
   ]
  },
  {
   "cell_type": "code",
   "execution_count": null,
   "metadata": {},
   "outputs": [],
   "source": [
    "class Calculator:\n",
    "\n",
    "    def __init__(self: object, num_a: int, num_b: int) -> None:\n",
    "\n",
    "        self.num_a: int = num_a\n",
    "        self.num_b: int = num_b\n",
    "        self.result: int = 0\n",
    "\n",
    "    @property\n",
    "    def add(self: object) -> int:\n",
    "        return self.num_a + self.num_b\n",
    "\n",
    "    @add.setter\n",
    "    def add(self: object, add: int) -> int:\n",
    "        self.result: int = add\n",
    "        return self.result   \n",
    "\n",
    "    @property\n",
    "    def sub(self: object) -> int:\n",
    "        return self.num_a - self.num_b\n",
    "\n",
    "    @add.setter\n",
    "    def sub(self: object, sub: int) -> int:\n",
    "        self.result: int = sub\n",
    "        return self.result \n",
    "\n",
    "    @property\n",
    "    def mult(self: object) -> int:\n",
    "        return self.num_a * self.num_b\n",
    "\n",
    "    @add.setter\n",
    "    def mult(self: object, mult: int) -> int:\n",
    "        self.result: int = mult\n",
    "        return self.result \n",
    "\n",
    "    @property\n",
    "    def div(self: object) -> float:\n",
    "        return self.num_a / self.num_b\n",
    "\n",
    "    @add.setter\n",
    "    def div(self: object, div: int) -> float:\n",
    "        self.result: int = div\n",
    "        return self.result\n",
    "\n",
    "\n",
    "\n",
    "\n",
    "# Run test:\n",
    "\n",
    "my_cal: Calculator = Calculator(30, 2)\n",
    "print(my_cal.add)"
   ]
  },
  {
   "cell_type": "markdown",
   "metadata": {},
   "source": [
    "Se B contém A:"
   ]
  },
  {
   "cell_type": "code",
   "execution_count": 4,
   "metadata": {},
   "outputs": [
    {
     "name": "stdout",
     "output_type": "stream",
     "text": [
      "False\n"
     ]
    }
   ],
   "source": [
    "def check(a, b):\n",
    "\n",
    "    estado = True\n",
    "    for valor in a:\n",
    "        if valor not in b:\n",
    "            estado = False\n",
    "    return estado\n",
    "\n",
    "# Run test\n",
    "print(check([1, 3, 10], [10, 8, 8, 8]))"
   ]
  },
  {
   "cell_type": "markdown",
   "metadata": {},
   "source": [
    "#### Sort a List by String Length\n",
    "\n",
    "Create a function that takes a list of strings and return a list, sorted from shortest to longest.\n",
    "\n",
    "sort_by_length([\"Google\", \"Apple\", \"Microsoft\"])\n",
    "➞ [\"Apple\", \"Google\", \"Microsoft\"]\n",
    "\n",
    "sort_by_length([\"Leonardo\", \"Michelangelo\", \"Raphael\", \"Donatello\"])\n",
    "➞ [\"Raphael\", \"Leonardo\", \"Donatello\", \"Michelangelo\"]\n",
    "\n",
    "sort_by_length([\"Turing\", \"Einstein\", \"Jung\"])\n",
    "➞ [\"Jung\", \"Turing\", \"Einstein\"]"
   ]
  },
  {
   "cell_type": "code",
   "execution_count": 42,
   "metadata": {},
   "outputs": [
    {
     "name": "stdout",
     "output_type": "stream",
     "text": [
      "['Raphael', 'Leonardo', 'Donatello', 'Michelangelo']\n",
      "['Jung', 'Turing', 'Einstein']\n"
     ]
    }
   ],
   "source": [
    "# Let's go!\n",
    "\n",
    "def sort_by_lenght(lists):\n",
    "        \n",
    "    new_lst = []\n",
    "\n",
    "    while len(lists) > 0:\n",
    "        for static in lists:\n",
    "            for mov in lists:\n",
    "                if len(mov) < len(static):\n",
    "                    menor = mov\n",
    "        if len(lists)==1:\n",
    "            new_lst.append(lists[0])\n",
    "            lists.clear()\n",
    "        else:\n",
    "            new_lst.append(menor)\n",
    "            lists.remove(menor)\n",
    "\n",
    "    return new_lst\n",
    "\n",
    "\n",
    "# Run test:\n",
    "\n",
    "lists = [\"Leonardo\", \"Michelangelo\", \"Raphael\", \"Donatello\"]\n",
    "l2 = [\"Turing\", \"Einstein\", \"Jung\"]\n",
    "\n",
    "print(sort_by_lenght(lists))\n",
    "print(sort_by_lenght(l2))    "
   ]
  },
  {
   "cell_type": "markdown",
   "metadata": {},
   "source": [
    "# Top note\n",
    "\n",
    "top_note({ \"name\": \"John\", \"notes\": [3, 5, 4] }) ➞ { \"name\": \"John\", \"top_note\": 5 }\n",
    "\n",
    "top_note({ \"name\": \"Max\", \"notes\": [1, 4, 6] }) ➞ { \"name\": \"Max\", \"top_note\": 6 }\n",
    "\n",
    "top_note({ \"name\": \"Zygmund\", \"notes\": [1, 2, 3] }) ➞ { \"name\": \"Zygmund\", \"top_note\": 3 }"
   ]
  },
  {
   "cell_type": "code",
   "execution_count": 2,
   "metadata": {},
   "outputs": [
    {
     "name": "stdout",
     "output_type": "stream",
     "text": [
      "{'nome': 'John', 'notes': 5}\n"
     ]
    }
   ],
   "source": [
    "def top_note(student):\n",
    "    \"\"\"Return is name studen and size note\"\"\"\n",
    "    return {\"nome\":student[\"name\"], \"notes\":max(student[\"notes\"])}\n",
    "# Run test\n",
    "print(top_note({ \"name\": \"John\", \"notes\": [3, 5, 4]}))"
   ]
  },
  {
   "cell_type": "markdown",
   "metadata": {},
   "source": [
    "# How Many \"Prime Numbers\" Are There?"
   ]
  },
  {
   "cell_type": "code",
   "execution_count": null,
   "metadata": {},
   "outputs": [],
   "source": [
    "\n",
    "def prime_numbers(value):\n",
    "\n",
    "    lista = [i for i in range(0, value + 1)]\n"
   ]
  },
  {
   "cell_type": "markdown",
   "metadata": {},
   "source": [
    "# Magic function\n",
    "\n",
    "Dica: Tudo é objeto na programação utilizando python;"
   ]
  },
  {
   "cell_type": "code",
   "execution_count": 8,
   "metadata": {},
   "outputs": [],
   "source": [
    "\n",
    "\n",
    "class Magic:\n",
    "\n",
    "\n",
    "    \"\"\"\n",
    "    \n",
    "    working string: Update caracter, return size, removing parts\n",
    "    \n",
    "    \n",
    "    \"\"\"\n",
    "\n",
    "\n",
    "    def __init__(self, caracter, va=None, vb=None) -> None:\n",
    "        \n",
    "        self.caracter = caracter\n",
    "        self.va = va\n",
    "        self.vb = vb\n",
    "\n",
    "\n",
    "    def repl(self):\n",
    "\n",
    "        \"\"\"Update caracter expecific into the string\"\"\"\n",
    "\n",
    "        self.lista = [self.i for self.i in self.caracter]\n",
    "        for self.i, self.v in enumerate(self.lista):\n",
    "            if self.v==self.va:\n",
    "                self.lista[self.i]=self.vb   \n",
    "        self.conc=''\n",
    "        for self.c in self.lista:\n",
    "            self.conc+=self.c\n",
    "        return self.conc\n",
    "\n",
    "\n",
    "    def str_length(self):\n",
    "\n",
    "        \"\"\"Return size of string\"\"\"\n",
    "\n",
    "        return len(self.lista)\n",
    "\n",
    "\n",
    "    def remove_space(self):\n",
    "\n",
    "        \"\"\"Removing space string\"\"\"\n",
    "\n",
    "        self.teste = [self.i for self.i in self.caracter]\n",
    "\n",
    "    # Para espaços na string:\n",
    "\n",
    "        while True:\n",
    "            # Remove os espaços do inicio da string...\n",
    "            if self.teste[0]==' ':\n",
    "                del self.teste[0]\n",
    "\n",
    "            # Remove os espaços do final da string...    \n",
    "            elif self.teste[-1]==' ':\n",
    "                del self.teste[-1]\n",
    "\n",
    "            # Remove os espaços do meio da string...    \n",
    "            elif self.teste.count(' ') > 1:\n",
    "                del self.teste[self.teste.index(' ')]    \n",
    "            else:\n",
    "                break\n",
    "\n",
    "        # Concatena todos os caracters da lista \"teste\" para formar a string...        \n",
    "        self.frase = ''        \n",
    "        for self.s in self.teste:\n",
    "            self.frase+=self.s\n",
    "        return self.frase"
   ]
  },
  {
   "cell_type": "code",
   "execution_count": 15,
   "metadata": {},
   "outputs": [],
   "source": [
    "# Instanciação\n",
    "\n",
    "teste = Magic('Update     TesTe   ', 't', 'T')"
   ]
  },
  {
   "cell_type": "code",
   "execution_count": 16,
   "metadata": {},
   "outputs": [
    {
     "data": {
      "text/plain": [
       "'UpdaTe     TesTe   '"
      ]
     },
     "execution_count": 16,
     "metadata": {},
     "output_type": "execute_result"
    }
   ],
   "source": [
    "# Teste método 01\n",
    "\n",
    "teste.repl()"
   ]
  },
  {
   "cell_type": "code",
   "execution_count": 48,
   "metadata": {},
   "outputs": [
    {
     "data": {
      "text/plain": [
       "11"
      ]
     },
     "execution_count": 48,
     "metadata": {},
     "output_type": "execute_result"
    }
   ],
   "source": [
    "# Teste método 02\n",
    "\n",
    "teste.str_length()"
   ]
  },
  {
   "cell_type": "code",
   "execution_count": 17,
   "metadata": {},
   "outputs": [
    {
     "data": {
      "text/plain": [
       "'Update TesTe'"
      ]
     },
     "execution_count": 17,
     "metadata": {},
     "output_type": "execute_result"
    }
   ],
   "source": [
    "# Teste método 03\n",
    "\n",
    "teste.remove_space()"
   ]
  },
  {
   "cell_type": "code",
   "execution_count": 3,
   "metadata": {},
   "outputs": [
    {
     "name": "stdout",
     "output_type": "stream",
     "text": [
      "Olá mundo!\n"
     ]
    }
   ],
   "source": [
    "print('Olá mundo!')"
   ]
  },
  {
   "cell_type": "markdown",
   "metadata": {},
   "source": [
    "# Size num:"
   ]
  },
  {
   "cell_type": "code",
   "execution_count": null,
   "metadata": {},
   "outputs": [],
   "source": [
    "def\tsize_num(num):\n",
    "\n",
    "\tt = 1\n",
    "\tc = 10\n",
    "\n",
    "\tfor i in range(1, num + 1):\n",
    "\t\tif i==c:\n",
    "\t\t\tt+=1\n",
    "\t\t\tc*=10\n",
    "\treturn t\n",
    "\t\n",
    "print(size_num(1212))"
   ]
  },
  {
   "cell_type": "markdown",
   "metadata": {},
   "source": [
    "# If number is:\n",
    "+ Divisor 3 returned Fizz;\n",
    "+ Divisor 5 returned Buzz;\n",
    "+ Divisor 3 and 5 returned FizzBuzz;\n",
    "+ Else returned number;"
   ]
  },
  {
   "cell_type": "code",
   "execution_count": null,
   "metadata": {},
   "outputs": [],
   "source": [
    "def fizz_buzz(num):\n",
    "\n",
    "    if num % 3==0 and num % 5 ==0:\n",
    "        return 'FizzBuzz'\n",
    "    elif num % 3 ==0:\n",
    "        return 'Fizz'\n",
    "    elif num % 5 ==0:\n",
    "        return 'Buss'\n",
    "    return str(num)\n",
    "\n",
    "print(fizz_buzz(1))"
   ]
  },
  {
   "cell_type": "markdown",
   "metadata": {},
   "source": [
    "# This is vector is ortogonal:"
   ]
  },
  {
   "cell_type": "code",
   "execution_count": null,
   "metadata": {},
   "outputs": [],
   "source": [
    "\n",
    "def is_orthogonal(first, second):\n",
    "\n",
    "    \"\"\" If vectors is ortogonals\n",
    "    if ortogonal return 0 \"\"\"\n",
    "\n",
    "    lista = []\n",
    "\n",
    "    for i, x in enumerate(first):\n",
    "        p = x * second[i]\n",
    "        lista.append(p)\n",
    "        p = 0\n",
    "    return sum(lista)\n",
    "\n",
    "\n",
    "# Run test:\n",
    "\n",
    "print(is_orthogonal([1, 2, 0], [2, -1, 10]))"
   ]
  },
  {
   "cell_type": "markdown",
   "metadata": {},
   "source": [
    "# Check if a Number is a Palindrome:\n"
   ]
  },
  {
   "cell_type": "code",
   "execution_count": null,
   "metadata": {},
   "outputs": [],
   "source": [
    "\n",
    "def pali(num):\n",
    "\n",
    "    \"\"\"If number is palindrome\"\"\"\n",
    "\n",
    "    num = str(num)\n",
    "\n",
    "    lista = [i for i in num]\n",
    "\n",
    "    number = ''\n",
    "    for i in reversed(lista):\n",
    "        nexxt = i\n",
    "        number = number + nexxt\n",
    "\n",
    "    if number==num:\n",
    "        print(f'{number} = {num}')\n",
    "        return True\n",
    "    \n",
    "    return f'{number} != {num}'\n",
    "\n",
    "print(pali(1331))"
   ]
  },
  {
   "cell_type": "markdown",
   "metadata": {},
   "source": [
    "# The Fifth Argument\n"
   ]
  },
  {
   "cell_type": "code",
   "execution_count": null,
   "metadata": {},
   "outputs": [],
   "source": [
    "\n",
    "def fifth(*argv):\n",
    "\n",
    "    if len(argv) < 5:\n",
    "        return 'Not enough arguments'\n",
    "    else:\n",
    "        if type(argv[-1])==str:\n",
    "            return str\n",
    "    return int\n",
    "fifth(0)                           "
   ]
  }
 ],
 "metadata": {
  "kernelspec": {
   "display_name": "Python 3.10.4 64-bit",
   "language": "python",
   "name": "python3"
  },
  "language_info": {
   "codemirror_mode": {
    "name": "ipython",
    "version": 3
   },
   "file_extension": ".py",
   "mimetype": "text/x-python",
   "name": "python",
   "nbconvert_exporter": "python",
   "pygments_lexer": "ipython3",
   "version": "3.10.7"
  },
  "orig_nbformat": 4,
  "vscode": {
   "interpreter": {
    "hash": "916dbcbb3f70747c44a77c7bcd40155683ae19c65e1c03b4aa3499c5328201f1"
   }
  }
 },
 "nbformat": 4,
 "nbformat_minor": 2
}
