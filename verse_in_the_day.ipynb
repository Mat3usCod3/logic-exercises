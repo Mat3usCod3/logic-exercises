{
 "cells": [
  {
   "cell_type": "code",
   "execution_count": 8,
   "metadata": {},
   "outputs": [
    {
     "name": "stdout",
     "output_type": "stream",
     "text": [
      "Vamos ao verso de hoje!\n",
      "Provérbios capítulo 31, verso 22 [!]\n"
     ]
    }
   ],
   "source": [
    "import random\n",
    "    \n",
    "# Número total de capítulos do livro de provérbios:\n",
    "\n",
    "num_fix = 31\n",
    "\n",
    "# Gerando um capítulo aleatório da bíblia:\n",
    "\n",
    "capitulo_al = random.randint(1, num_fix)\n",
    "\n",
    "# Dicionário:\n",
    "\n",
    "dicion_ = {1:33, 2:22, 3:35, 4:27, 5:23, 6:35, 7:27,\n",
    "8:36, 9:18, 10:32, 11:31, 12:28, 13:25, 14:35, 15:33, \n",
    "16:33, 17:28, 18:24, 19:29, 20:30, 21:31, 22:29, 23:35, \n",
    "24:34, 25:28, 26:28, 27:27, 28:28, 29:27, 30:33, 31:31}\n",
    "\n",
    "## Verso aleatório:\n",
    "\n",
    "for i in dicion_:\n",
    "    if i == capitulo_al:\n",
    "        v = (dicion_[capitulo_al])\n",
    "        verso_al = random.randint(1, v)\n",
    "    else:\n",
    "        pass\n",
    "\n",
    "\n",
    "print('Vamos ao verso de hoje!')      \n",
    "print('Provérbios capítulo {}, verso {} [!]'.format(capitulo_al, verso_al))"
   ]
  }
 ],
 "metadata": {
  "kernelspec": {
   "display_name": "Python 3.10.7 64-bit",
   "language": "python",
   "name": "python3"
  },
  "language_info": {
   "codemirror_mode": {
    "name": "ipython",
    "version": 3
   },
   "file_extension": ".py",
   "mimetype": "text/x-python",
   "name": "python",
   "nbconvert_exporter": "python",
   "pygments_lexer": "ipython3",
   "version": "3.10.7"
  },
  "orig_nbformat": 4,
  "vscode": {
   "interpreter": {
    "hash": "916dbcbb3f70747c44a77c7bcd40155683ae19c65e1c03b4aa3499c5328201f1"
   }
  }
 },
 "nbformat": 4,
 "nbformat_minor": 2
}
